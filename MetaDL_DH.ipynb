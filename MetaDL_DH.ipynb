{
  "nbformat": 4,
  "nbformat_minor": 0,
  "metadata": {
    "colab": {
      "name": "rl_python_MT.ipynb",
      "provenance": [],
      "authorship_tag": "ABX9TyPrxc7zbuO6CeopI7qrmj7J",
      "include_colab_link": true
    },
    "kernelspec": {
      "name": "python374jvsc74a57bd05272e271198e641207f4d8bec6a72159b91d0337ccfbc75f7129e4987471b9d3",
      "display_name": "Python 3.7.4 64-bit ('base': conda)"
    },
    "language_info": {
      "name": "python",
      "version": "3.7.4"
    },
    "metadata": {
      "interpreter": {
        "hash": "8b29cf3472b2de65ac0e4da98235d7879e936bb74c285ff9aa4315d2b599c5a6"
      }
    }
  },
  "cells": [
    {
      "cell_type": "code",
      "metadata": {
        "colab": {
          "base_uri": "https://localhost:8080/"
        },
        "id": "7poR1bn64i6U",
        "outputId": "7ac9a299-f386-45bf-8407-c6a8a54e78bc"
      },
      "source": [
        "#Python version\n",
        "!python --version"
      ],
      "execution_count": 1,
      "outputs": [
        {
          "output_type": "stream",
          "name": "stdout",
          "text": [
            "Python 3.8.5\n"
          ]
        }
      ]
    },
    {
      "cell_type": "code",
      "metadata": {
        "colab": {
          "base_uri": "https://localhost:8080/"
        },
        "id": "9hM9SNTx4BLj",
        "outputId": "86edd07e-8d26-44da-dca7-b079272dee1c"
      },
      "source": [
        "#Install uninstalled modules\n",
        "#!pip install ipykernel\n",
        "!pip install MetaTrader5==5.0.34\n",
        "!pip install gym\n",
        "!pip install gym-anytrading\n",
        "!pip install tensorflow"
      ],
      "execution_count": 2,
      "outputs": [
        {
          "output_type": "stream",
          "name": "stdout",
          "text": [
            "Requirement already satisfied: MetaTrader5==5.0.34 in c:\\users\\dhupee\\anaconda3\\lib\\site-packages (5.0.34)\n",
            "Requirement already satisfied: numpy>=1.7 in c:\\users\\dhupee\\anaconda3\\lib\\site-packages (from MetaTrader5==5.0.34) (1.19.2)\n",
            "Requirement already satisfied: gym in c:\\users\\dhupee\\anaconda3\\lib\\site-packages (0.18.0)\n",
            "Requirement already satisfied: numpy>=1.10.4 in c:\\users\\dhupee\\anaconda3\\lib\\site-packages (from gym) (1.19.2)\n",
            "Requirement already satisfied: scipy in c:\\users\\dhupee\\anaconda3\\lib\\site-packages (from gym) (1.5.2)\n",
            "Requirement already satisfied: cloudpickle<1.7.0,>=1.2.0 in c:\\users\\dhupee\\anaconda3\\lib\\site-packages (from gym) (1.6.0)\n",
            "Requirement already satisfied: Pillow<=7.2.0 in c:\\users\\dhupee\\anaconda3\\lib\\site-packages (from gym) (7.2.0)\n",
            "Requirement already satisfied: pyglet<=1.5.0,>=1.4.0 in c:\\users\\dhupee\\anaconda3\\lib\\site-packages (from gym) (1.5.0)\n",
            "Requirement already satisfied: future in c:\\users\\dhupee\\anaconda3\\lib\\site-packages (from pyglet<=1.5.0,>=1.4.0->gym) (0.18.2)\n",
            "Requirement already satisfied: gym-anytrading in c:\\users\\dhupee\\anaconda3\\lib\\site-packages (1.2.0)\n",
            "Requirement already satisfied: gym>=0.12.5 in c:\\users\\dhupee\\anaconda3\\lib\\site-packages (from gym-anytrading) (0.18.0)\n",
            "Requirement already satisfied: numpy>=1.16.4 in c:\\users\\dhupee\\anaconda3\\lib\\site-packages (from gym-anytrading) (1.19.2)\n",
            "Requirement already satisfied: matplotlib>=3.1.1 in c:\\users\\dhupee\\anaconda3\\lib\\site-packages (from gym-anytrading) (3.3.2)\n",
            "Requirement already satisfied: pandas>=0.24.2 in c:\\users\\dhupee\\anaconda3\\lib\\site-packages (from gym-anytrading) (1.1.3)\n",
            "Requirement already satisfied: Pillow<=7.2.0 in c:\\users\\dhupee\\anaconda3\\lib\\site-packages (from gym>=0.12.5->gym-anytrading) (7.2.0)\n",
            "Requirement already satisfied: pyglet<=1.5.0,>=1.4.0 in c:\\users\\dhupee\\anaconda3\\lib\\site-packages (from gym>=0.12.5->gym-anytrading) (1.5.0)\n",
            "Requirement already satisfied: cloudpickle<1.7.0,>=1.2.0 in c:\\users\\dhupee\\anaconda3\\lib\\site-packages (from gym>=0.12.5->gym-anytrading) (1.6.0)\n",
            "Requirement already satisfied: scipy in c:\\users\\dhupee\\anaconda3\\lib\\site-packages (from gym>=0.12.5->gym-anytrading) (1.5.2)\n",
            "Requirement already satisfied: certifi>=2020.06.20 in c:\\users\\dhupee\\anaconda3\\lib\\site-packages (from matplotlib>=3.1.1->gym-anytrading) (2020.6.20)\n",
            "Requirement already satisfied: python-dateutil>=2.1 in c:\\users\\dhupee\\anaconda3\\lib\\site-packages (from matplotlib>=3.1.1->gym-anytrading) (2.8.1)\n",
            "Requirement already satisfied: pyparsing!=2.0.4,!=2.1.2,!=2.1.6,>=2.0.3 in c:\\users\\dhupee\\anaconda3\\lib\\site-packages (from matplotlib>=3.1.1->gym-anytrading) (2.4.7)\n",
            "Requirement already satisfied: kiwisolver>=1.0.1 in c:\\users\\dhupee\\anaconda3\\lib\\site-packages (from matplotlib>=3.1.1->gym-anytrading) (1.3.0)\n",
            "Requirement already satisfied: cycler>=0.10 in c:\\users\\dhupee\\anaconda3\\lib\\site-packages (from matplotlib>=3.1.1->gym-anytrading) (0.10.0)\n",
            "Requirement already satisfied: pytz>=2017.2 in c:\\users\\dhupee\\anaconda3\\lib\\site-packages (from pandas>=0.24.2->gym-anytrading) (2020.1)\n",
            "Requirement already satisfied: future in c:\\users\\dhupee\\anaconda3\\lib\\site-packages (from pyglet<=1.5.0,>=1.4.0->gym>=0.12.5->gym-anytrading) (0.18.2)\n",
            "Requirement already satisfied: six>=1.5 in c:\\users\\dhupee\\anaconda3\\lib\\site-packages (from python-dateutil>=2.1->matplotlib>=3.1.1->gym-anytrading) (1.15.0)\n",
            "Requirement already satisfied: tensorflow in c:\\users\\dhupee\\anaconda3\\lib\\site-packages (2.4.1)\n",
            "Requirement already satisfied: google-pasta~=0.2 in c:\\users\\dhupee\\anaconda3\\lib\\site-packages (from tensorflow) (0.2.0)\n",
            "Requirement already satisfied: flatbuffers~=1.12.0 in c:\\users\\dhupee\\anaconda3\\lib\\site-packages (from tensorflow) (1.12)\n",
            "Requirement already satisfied: h5py~=2.10.0 in c:\\users\\dhupee\\anaconda3\\lib\\site-packages (from tensorflow) (2.10.0)\n",
            "Requirement already satisfied: numpy~=1.19.2 in c:\\users\\dhupee\\anaconda3\\lib\\site-packages (from tensorflow) (1.19.2)\n",
            "Requirement already satisfied: grpcio~=1.32.0 in c:\\users\\dhupee\\anaconda3\\lib\\site-packages (from tensorflow) (1.32.0)\n",
            "Requirement already satisfied: astunparse~=1.6.3 in c:\\users\\dhupee\\anaconda3\\lib\\site-packages (from tensorflow) (1.6.3)\n",
            "Requirement already satisfied: opt-einsum~=3.3.0 in c:\\users\\dhupee\\anaconda3\\lib\\site-packages (from tensorflow) (3.3.0)\n",
            "Requirement already satisfied: tensorflow-estimator<2.5.0,>=2.4.0 in c:\\users\\dhupee\\anaconda3\\lib\\site-packages (from tensorflow) (2.4.0)\n",
            "Requirement already satisfied: wrapt~=1.12.1 in c:\\users\\dhupee\\anaconda3\\lib\\site-packages (from tensorflow) (1.12.1)\n",
            "Requirement already satisfied: keras-preprocessing~=1.1.2 in c:\\users\\dhupee\\anaconda3\\lib\\site-packages (from tensorflow) (1.1.2)\n",
            "Requirement already satisfied: gast==0.3.3 in c:\\users\\dhupee\\anaconda3\\lib\\site-packages (from tensorflow) (0.3.3)\n",
            "Requirement already satisfied: six~=1.15.0 in c:\\users\\dhupee\\anaconda3\\lib\\site-packages (from tensorflow) (1.15.0)\n",
            "Requirement already satisfied: protobuf>=3.9.2 in c:\\users\\dhupee\\anaconda3\\lib\\site-packages (from tensorflow) (3.16.0)\n",
            "Requirement already satisfied: absl-py~=0.10 in c:\\users\\dhupee\\anaconda3\\lib\\site-packages (from tensorflow) (0.12.0)\n",
            "Requirement already satisfied: termcolor~=1.1.0 in c:\\users\\dhupee\\anaconda3\\lib\\site-packages (from tensorflow) (1.1.0)\n",
            "Requirement already satisfied: typing-extensions~=3.7.4 in c:\\users\\dhupee\\anaconda3\\lib\\site-packages (from tensorflow) (3.7.4.3)\n",
            "Requirement already satisfied: wheel~=0.35 in c:\\users\\dhupee\\anaconda3\\lib\\site-packages (from tensorflow) (0.35.1)\n",
            "Requirement already satisfied: tensorboard~=2.4 in c:\\users\\dhupee\\anaconda3\\lib\\site-packages (from tensorflow) (2.5.0)\n",
            "Requirement already satisfied: markdown>=2.6.8 in c:\\users\\dhupee\\anaconda3\\lib\\site-packages (from tensorboard~=2.4->tensorflow) (3.3.4)\n",
            "Requirement already satisfied: requests<3,>=2.21.0 in c:\\users\\dhupee\\anaconda3\\lib\\site-packages (from tensorboard~=2.4->tensorflow) (2.24.0)\n",
            "Requirement already satisfied: tensorboard-plugin-wit>=1.6.0 in c:\\users\\dhupee\\anaconda3\\lib\\site-packages (from tensorboard~=2.4->tensorflow) (1.8.0)\n",
            "Requirement already satisfied: google-auth-oauthlib<0.5,>=0.4.1 in c:\\users\\dhupee\\anaconda3\\lib\\site-packages (from tensorboard~=2.4->tensorflow) (0.4.4)\n",
            "Requirement already satisfied: tensorboard-data-server<0.7.0,>=0.6.0 in c:\\users\\dhupee\\anaconda3\\lib\\site-packages (from tensorboard~=2.4->tensorflow) (0.6.1)\n",
            "Requirement already satisfied: werkzeug>=0.11.15 in c:\\users\\dhupee\\anaconda3\\lib\\site-packages (from tensorboard~=2.4->tensorflow) (1.0.1)\n",
            "Requirement already satisfied: google-auth<2,>=1.6.3 in c:\\users\\dhupee\\anaconda3\\lib\\site-packages (from tensorboard~=2.4->tensorflow) (1.30.0)\n",
            "Requirement already satisfied: setuptools>=41.0.0 in c:\\users\\dhupee\\anaconda3\\lib\\site-packages (from tensorboard~=2.4->tensorflow) (50.3.1.post20201107)\n",
            "Requirement already satisfied: urllib3!=1.25.0,!=1.25.1,<1.26,>=1.21.1 in c:\\users\\dhupee\\anaconda3\\lib\\site-packages (from requests<3,>=2.21.0->tensorboard~=2.4->tensorflow) (1.25.11)\n",
            "Requirement already satisfied: idna<3,>=2.5 in c:\\users\\dhupee\\anaconda3\\lib\\site-packages (from requests<3,>=2.21.0->tensorboard~=2.4->tensorflow) (2.10)\n",
            "Requirement already satisfied: chardet<4,>=3.0.2 in c:\\users\\dhupee\\anaconda3\\lib\\site-packages (from requests<3,>=2.21.0->tensorboard~=2.4->tensorflow) (3.0.4)\n",
            "Requirement already satisfied: certifi>=2017.4.17 in c:\\users\\dhupee\\anaconda3\\lib\\site-packages (from requests<3,>=2.21.0->tensorboard~=2.4->tensorflow) (2020.6.20)\n",
            "Requirement already satisfied: requests-oauthlib>=0.7.0 in c:\\users\\dhupee\\anaconda3\\lib\\site-packages (from google-auth-oauthlib<0.5,>=0.4.1->tensorboard~=2.4->tensorflow) (1.3.0)\n",
            "Requirement already satisfied: rsa<5,>=3.1.4; python_version >= \"3.6\" in c:\\users\\dhupee\\anaconda3\\lib\\site-packages (from google-auth<2,>=1.6.3->tensorboard~=2.4->tensorflow) (4.7.2)\n",
            "Requirement already satisfied: pyasn1-modules>=0.2.1 in c:\\users\\dhupee\\anaconda3\\lib\\site-packages (from google-auth<2,>=1.6.3->tensorboard~=2.4->tensorflow) (0.2.8)\n",
            "Requirement already satisfied: cachetools<5.0,>=2.0.0 in c:\\users\\dhupee\\anaconda3\\lib\\site-packages (from google-auth<2,>=1.6.3->tensorboard~=2.4->tensorflow) (4.2.2)\n",
            "Requirement already satisfied: oauthlib>=3.0.0 in c:\\users\\dhupee\\anaconda3\\lib\\site-packages (from requests-oauthlib>=0.7.0->google-auth-oauthlib<0.5,>=0.4.1->tensorboard~=2.4->tensorflow) (3.1.0)\n",
            "Requirement already satisfied: pyasn1>=0.1.3 in c:\\users\\dhupee\\anaconda3\\lib\\site-packages (from rsa<5,>=3.1.4; python_version >= \"3.6\"->google-auth<2,>=1.6.3->tensorboard~=2.4->tensorflow) (0.4.8)\n"
          ]
        }
      ]
    },
    {
      "cell_type": "code",
      "metadata": {
        "colab": {
          "base_uri": "https://localhost:8080/",
          "height": 353
        },
        "id": "u49H4BR53g8y",
        "outputId": "dce1249f-6705-45c7-8859-c258a7b0f42a"
      },
      "source": [
        "#Import needed modules\n",
        "import gym\n",
        "import gym_anytrading\n",
        "from gym_anytrading.datasets import FOREX_EURUSD_1H_ASK, STOCKS_GOOGL\n",
        "import numpy as np\n",
        "import tensorflow as tf\n",
        "import matplotlib.pyplot as plt\n",
        "import pandas as pd\n",
        "import random\n",
        "import math\n",
        "import datetime\n",
        "import MetaTrader5 as mt5"
      ],
      "execution_count": 3,
      "outputs": []
    },
    {
      "cell_type": "code",
      "execution_count": 4,
      "metadata": {},
      "outputs": [
        {
          "output_type": "stream",
          "name": "stdout",
          "text": [
            "MetaTrader5 package author:  MetaQuotes Software Corp.\nMetaTrader5 package version:  5.0.34\ninitialize() failed, error code = (-10003, 'IPC initialize failed, MetaTrader 5 x64 not found')\n(0, 0, '')\n"
          ]
        },
        {
          "output_type": "execute_result",
          "data": {
            "text/plain": [
              "'\\n# Initialize Metatrader on a certain day\\nif datetime.datetime.now() == weekdays:\\n    # now connect to another trading account specifying the password\\n    account = #Account number\\n    password = #Password number\\n    server = #Server name\\n    authorized=mt5.login(account, password, server)\\n    if authorized:\\n        # display trading account data \\'as is\\'\\n        print(mt5.account_info())\\n        # display trading account data in the form of a list\\n        print(\"Show account_info()._asdict():\")\\n        account_info_dict = mt5.account_info()._asdict()\\n        for prop in account_info_dict:\\n            print(\"  {}={}\".format(prop, account_info_dict[prop]))\\n    else:\\n        print(\"failed to connect at account #{}, error code: {}\".format(account, mt5.last_error()))\\n# shut down connection to the MetaTrader 5 terminal\\nelse:\\n    mt5.shutdown()\\n'"
            ]
          },
          "metadata": {},
          "execution_count": 4
        }
      ],
      "source": [
        "# display data on the MetaTrader 5 package\n",
        "print(\"MetaTrader5 package author: \",mt5.__author__)\n",
        "print(\"MetaTrader5 package version: \",mt5.__version__)\n",
        "\n",
        "# establish connection to the MetaTrader 5 terminal\n",
        "if not mt5.initialize():\n",
        "    print(\"initialize() failed, error code =\",mt5.last_error())\n",
        "    mt5.shutdown()\n",
        " \n",
        "# display data on MetaTrader 5 version\n",
        "print(mt5.version())\n",
        "\n",
        "weekdays = [\"Monday\", \"Tuesday\", \"Wednesday\", \"Thursday\", \"Friday\"]\n",
        "\n",
        "\"\"\"\n",
        "# Initialize Metatrader on a certain day\n",
        "if datetime.datetime.now() == weekdays:\n",
        "    # now connect to another trading account specifying the password\n",
        "    account = #Account number\n",
        "    password = #Password number\n",
        "    server = #Server name\n",
        "    authorized=mt5.login(account, password, server)\n",
        "    if authorized:\n",
        "        # display trading account data 'as is'\n",
        "        print(mt5.account_info())\n",
        "        # display trading account data in the form of a list\n",
        "        print(\"Show account_info()._asdict():\")\n",
        "        account_info_dict = mt5.account_info()._asdict()\n",
        "        for prop in account_info_dict:\n",
        "            print(\"  {}={}\".format(prop, account_info_dict[prop]))\n",
        "    else:\n",
        "        print(\"failed to connect at account #{}, error code: {}\".format(account, mt5.last_error()))\n",
        "# shut down connection to the MetaTrader 5 terminal\n",
        "else:\n",
        "    mt5.shutdown()\n",
        "\"\"\""
      ]
    },
    {
      "cell_type": "code",
      "execution_count": 5,
      "metadata": {},
      "outputs": [
        {
          "output_type": "stream",
          "name": "stdout",
          "text": [
            "\ncustom_env information:\n> shape: (10, 2)\n> df.shape: (6225, 5)\n> prices.shape: (300,)\n> signal_features.shape: (300, 2)\n> max_possible_profit: 1.122900180008982\n"
          ]
        }
      ],
      "source": [
        "custom_env = gym.make('forex-v0',\n",
        "               df = FOREX_EURUSD_1H_ASK,\n",
        "               window_size = 10,\n",
        "               frame_bound = (10, 300),\n",
        "               unit_side = 'right')\n",
        "\n",
        "print()\n",
        "print(\"custom_env information:\")\n",
        "print(\"> shape:\", custom_env.shape)\n",
        "print(\"> df.shape:\", custom_env.df.shape)\n",
        "print(\"> prices.shape:\", custom_env.prices.shape)\n",
        "print(\"> signal_features.shape:\", custom_env.signal_features.shape)\n",
        "print(\"> max_possible_profit:\", custom_env.max_possible_profit())\n",
        "\n",
        "#custom_env.reset() ##Uncomment if you need it.\n",
        "#custom_env.render()"
      ]
    },
    {
      "cell_type": "code",
      "execution_count": 6,
      "metadata": {},
      "outputs": [],
      "source": [
        "model = tf.keras.Sequential()\n",
        "model.add(tf.keras.layers.Dense(32, input_dim = 4, activation='relu'))\n",
        "model.add(tf.keras.layers.Dense(2, activation = \"softmax\"))\n",
        "model.build()\n",
        "optimizer = tf.keras.optimizers.Adam(learning_rate = 0.01)\n",
        "compute_loss = tf.keras.losses.SparseCategoricalCrossentropy(from_logits=True)"
      ]
    },
    {
      "cell_type": "code",
      "execution_count": 7,
      "metadata": {},
      "outputs": [],
      "source": [
        "def discount_rewards(r, gamma = 0.8):\n",
        "    discounted_r = np.zeros_like(r)\n",
        "    running_add = 0\n",
        "    for t in reversed(range(0, r.size)):\n",
        "        running_add = running_add * gamma + r[t]\n",
        "        discounted_r[t] = running_add\n",
        "    return discounted_r"
      ]
    },
    {
      "cell_type": "code",
      "execution_count": 8,
      "metadata": {},
      "outputs": [
        {
          "output_type": "stream",
          "name": "stderr",
          "text": [
            "<ipython-input-8-9a06370b7277>:36: VisibleDeprecationWarning: Creating an ndarray from ragged nested sequences (which is a list-or-tuple of lists-or-tuples-or ndarrays with different lengths or shapes) is deprecated. If you meant to do this, you must specify 'dtype=object' when creating the ndarray\n",
            "  ep_memory = np.array(ep_memory)\n",
            "Episode  0  Score  12.0\n",
            "Episode  100  Score  35.76\n",
            "Episode  200  Score  106.08\n",
            "Episode  300  Score  126.79\n",
            "Episode  400  Score  177.98\n",
            "Episode  500  Score  166.72\n",
            "Episode  600  Score  73.29\n",
            "Episode  700  Score  180.04\n",
            "Episode  800  Score  200.0\n",
            "Episode  900  Score  199.74\n",
            "Episode  1000  Score  200.0\n",
            "Episode  1100  Score  197.49\n",
            "Episode  1200  Score  198.48\n",
            "Episode  1300  Score  195.06\n",
            "Episode  1400  Score  187.24\n",
            "Episode  1500  Score  159.27\n",
            "Episode  1600  Score  125.85\n",
            "Episode  1700  Score  181.43\n",
            "Episode  1800  Score  200.0\n",
            "Episode  1900  Score  199.1\n"
          ]
        }
      ],
      "source": [
        "env = gym.make('CartPole-v0')\n",
        "episodes = 2000\n",
        "scores = []\n",
        "update_every = 5\n",
        "\n",
        "gradBuffer = model.trainable_variables\n",
        "for ix,grad in enumerate(gradBuffer):\n",
        "  gradBuffer[ix] = grad * 0\n",
        "  \n",
        "for e in range(episodes):\n",
        "  \n",
        "  s = env.reset()\n",
        "  \n",
        "  env.render()\n",
        "  ep_memory = []\n",
        "  ep_score = 0\n",
        "  done = False \n",
        "  while not done: \n",
        "    s = s.reshape([1,4])\n",
        "    with tf.GradientTape() as tape:\n",
        "      #forward pass\n",
        "      logits = model(s)\n",
        "      a_dist = logits.numpy()\n",
        "      # Choose random action with p = action dist\n",
        "      a = np.random.choice(a_dist[0],p=a_dist[0])\n",
        "      a = np.argmax(a_dist == a)\n",
        "      loss = compute_loss([a], logits)\n",
        "    # make the choosen action \n",
        "    s, r, done, _ = env.step(a)\n",
        "    ep_score +=r\n",
        "    if done: r-=10\n",
        "    grads = tape.gradient(loss, model.trainable_variables)\n",
        "    ep_memory.append([grads,r])\n",
        "  scores.append(ep_score)\n",
        "  # Discound the rewards \n",
        "  ep_memory = np.array(ep_memory)\n",
        "  ep_memory[:,1] = discount_rewards(ep_memory[:,1])\n",
        "  \n",
        "  for grads, r in ep_memory:\n",
        "    for ix,grad in enumerate(grads):\n",
        "      gradBuffer[ix] += grad * r\n",
        "  \n",
        "  if e % update_every == 0:\n",
        "    optimizer.apply_gradients(zip(gradBuffer, model.trainable_variables))\n",
        "    for ix,grad in enumerate(gradBuffer):\n",
        "      gradBuffer[ix] = grad * 0\n",
        "      \n",
        "  if e % 100 == 0:\n",
        "    print(\"Episode  {}  Score  {}\".format(e, np.mean(scores[-100:])))\n",
        "\n",
        "env.close()"
      ]
    },
    {
      "cell_type": "code",
      "execution_count": null,
      "metadata": {},
      "outputs": [],
      "source": []
    }
  ]
}