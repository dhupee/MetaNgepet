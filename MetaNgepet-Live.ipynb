{
 "metadata": {
  "language_info": {
   "codemirror_mode": {
    "name": "ipython",
    "version": 3
   },
   "file_extension": ".py",
   "mimetype": "text/x-python",
   "name": "python",
   "nbconvert_exporter": "python",
   "pygments_lexer": "ipython3",
   "version": 3
  },
  "orig_nbformat": 2
 },
 "nbformat": 4,
 "nbformat_minor": 2,
 "cells": [
  {
   "cell_type": "code",
   "execution_count": null,
   "metadata": {},
   "outputs": [],
   "source": [
    "#Python version\n",
    "!python --version"
   ]
  },
  {
   "cell_type": "code",
   "execution_count": null,
   "metadata": {},
   "outputs": [],
   "source": [
    "#Install uninstalled modules, comment if it's already installed\n",
    "\n",
    "#!pip install finta\n",
    "#!pip install stable-baselines[mpi]\n",
    "#!pip install MetaTrader5\n",
    "#!pip install gym\n",
    "#!pip install gym-anytrading\n",
    "#!pip install tensorflow==1.15.0\n",
    "#!pip install quantstats"
   ]
  },
  {
   "cell_type": "code",
   "execution_count": null,
   "metadata": {},
   "outputs": [],
   "source": [
    "#Import needed modules\n",
    "import gym\n",
    "import gym_anytrading\n",
    "from gym_anytrading.datasets import FOREX_EURUSD_1H_ASK\n",
    "\n",
    "import numpy as np\n",
    "import quantstats as qs\n",
    "\n",
    "from stable_baselines.a2c import A2C\n",
    "from stable_baselines.common.vec_env import DummyVecEnv\n",
    "from stable_baselines.common.policies import MlpLstmPolicy\n",
    "\n",
    "import matplotlib.pyplot as plt\n",
    "import pandas as pd\n",
    "from finta import TA\n",
    "\n",
    "import random, datetime, os, copy, pytz\n",
    "import MetaTrader5 as mt5"
   ]
  }
 ]
}